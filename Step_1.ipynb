{
  "nbformat": 4,
  "nbformat_minor": 0,
  "metadata": {
    "colab": {
      "private_outputs": true,
      "provenance": [],
      "authorship_tag": "ABX9TyPwtrc/OGBuddZ5fYm8ttK/",
      "include_colab_link": true
    },
    "kernelspec": {
      "name": "python3",
      "display_name": "Python 3"
    },
    "language_info": {
      "name": "python"
    }
  },
  "cells": [
    {
      "cell_type": "markdown",
      "metadata": {
        "id": "view-in-github",
        "colab_type": "text"
      },
      "source": [
        "<a href=\"https://colab.research.google.com/github/senonaderian/ADRD-an-ADR_Detection_NLP-framework/blob/main/Step_1.ipynb\" target=\"_parent\"><img src=\"https://colab.research.google.com/assets/colab-badge.svg\" alt=\"Open In Colab\"/></a>"
      ]
    },
    {
      "cell_type": "code",
      "execution_count": null,
      "metadata": {
        "id": "iCwjx_I1iUes"
      },
      "outputs": [],
      "source": [
        "import pandas as pd\n",
        "import matplotlib.pyplot as plt\n",
        "import seaborn as sns"
      ]
    },
    {
      "cell_type": "code",
      "source": [
        "!pip install upsetplot"
      ],
      "metadata": {
        "id": "_tMJddM_iyYi"
      },
      "execution_count": null,
      "outputs": []
    },
    {
      "cell_type": "code",
      "source": [
        "from upsetplot import UpSet, from_indicators"
      ],
      "metadata": {
        "id": "aZItgtn7i3fK"
      },
      "execution_count": null,
      "outputs": []
    },
    {
      "cell_type": "code",
      "source": [
        "df = pd.read_excel(\"/content/blinded-data.xlsx\")"
      ],
      "metadata": {
        "id": "cykpXF8di_Ti"
      },
      "execution_count": null,
      "outputs": []
    },
    {
      "cell_type": "code",
      "source": [
        "df = pd.read_excel(\"/content/blinded-data.xlsx\", header=1)"
      ],
      "metadata": {
        "id": "PLQwcKH_jcZS"
      },
      "execution_count": null,
      "outputs": []
    },
    {
      "cell_type": "code",
      "source": [
        "print(df.columns.tolist())"
      ],
      "metadata": {
        "id": "s93Ry3L2knGK"
      },
      "execution_count": null,
      "outputs": []
    },
    {
      "cell_type": "code",
      "source": [
        "followup_cols = [\n",
        "    'FollowUpReStroke', 'FollowUpSeizure', 'FollowUpAspirationPneumonia',\n",
        "    'FollowUpUTI', 'FollowUpSepsis', 'FollowUpBedsoresPressureulcers',\n",
        "    'FollowUpDVT', 'FollowUpPTE', 'FollowUpMI', 'FollowUpGIB', 'FollowUpDeath'\n",
        "]"
      ],
      "metadata": {
        "id": "tXVvT-jKp8Vn"
      },
      "execution_count": null,
      "outputs": []
    },
    {
      "cell_type": "code",
      "source": [
        "# Follow-Up Complications quick summary\n",
        "comp_df = df[followup_cols].sum().reset_index()\n",
        "comp_df.columns = ['Complication', 'Patient Count']\n",
        "comp_df['% of Patients'] = (comp_df['Patient Count'] / len(df) * 100).round(2)\n",
        "comp_df['Per 100 Patients'] = comp_df['% of Patients'].round(2)\n",
        "comp_df['Cumulative %'] = comp_df['% of Patients'].cumsum().round(2)\n",
        "\n",
        "comp_df.sort_values(by='Patient Count', ascending=False).reset_index(drop=True)"
      ],
      "metadata": {
        "id": "uQj3myywqALf"
      },
      "execution_count": null,
      "outputs": []
    },
    {
      "cell_type": "code",
      "source": [
        "complication_counts = df[followup_cols].sum().sort_values(ascending=False)\n",
        "\n",
        "plt.figure(figsize=(10, 5))\n",
        "sns.barplot(x=complication_counts.values, y=complication_counts.index)\n",
        "plt.title(\"Frequency of Follow-Up Complications\")\n",
        "plt.xlabel(\"Number of Patients\")\n",
        "plt.ylabel(\"Complication Type\")\n",
        "plt.tight_layout()\n",
        "plt.show()"
      ],
      "metadata": {
        "id": "JmrK24DamcJY"
      },
      "execution_count": null,
      "outputs": []
    },
    {
      "cell_type": "code",
      "source": [
        "stroke_cols = [\n",
        "    'SAH', 'SAHICA Siphon/Bifurc', 'SAHMCA', 'SAHAComA', 'SAHPComA',\n",
        "    'SAHBA', 'SAHVA', 'SAHOtherIntracranial', 'SAHIntracranialUnsp',\n",
        "    'SAHOther', 'SAHUnsp', 'ICH', 'ICHHemSubcortical', 'ICHHemCortical ',\n",
        "    'ICHHemUnsp', 'ICHBrainstem', 'ICHCerebellum', 'ICHIntraventricular',\n",
        "    'ICHMultLocalized', 'ICHOther', 'ICHUnsp', 'CI', 'CILAA', 'CICE',\n",
        "    'CI-Lacunar', 'CIESUS', 'CIUnknown', 'CIArterialDissection', 'CIOthers',\n",
        "    'CVT', 'TIA'\n",
        "]\n"
      ],
      "metadata": {
        "id": "1RBEOxYrqT0U"
      },
      "execution_count": null,
      "outputs": []
    },
    {
      "cell_type": "code",
      "source": [
        "# Stroke Subtypes quick summary\n",
        "stroke_counts = df[stroke_cols].sum()\n",
        "stroke_df = stroke_counts.reset_index()\n",
        "stroke_df.columns = ['Stroke Subtype', 'Patient Count']\n",
        "stroke_df['% of Patients'] = (stroke_df['Patient Count'] / len(df) * 100).round(2)\n",
        "stroke_df['Per 100 Patients'] = stroke_df['% of Patients'].round(2)\n",
        "stroke_df['Cumulative %'] = stroke_df['% of Patients'].cumsum().round(2)\n",
        "\n",
        "stroke_df.sort_values(by='Patient Count', ascending=False).reset_index(drop=True)\n"
      ],
      "metadata": {
        "id": "J2BWkLRHqXhH"
      },
      "execution_count": null,
      "outputs": []
    },
    {
      "cell_type": "code",
      "source": [
        "stroke_counts = df[stroke_cols].sum().sort_values(ascending=False)\n",
        "\n",
        "plt.figure(figsize=(10, 8))\n",
        "sns.barplot(x=stroke_counts.values, y=stroke_counts.index)\n",
        "plt.title(\"Frequency of Stroke Types and Locations\")\n",
        "plt.xlabel(\"Number of Patients\")\n",
        "plt.ylabel(\"Stroke Subtype\")\n",
        "plt.tight_layout()\n",
        "plt.show()"
      ],
      "metadata": {
        "id": "xrY-3N_lmf6n"
      },
      "execution_count": null,
      "outputs": []
    },
    {
      "cell_type": "code",
      "source": [
        "intervention_cols = [\n",
        "    'HematomaEvacuation', 'Clipping', 'Decompressivecraniectomy', 'Endarterectomy',\n",
        "    'Shunting', 'ExternalVentricularDrain', 'Coiling', 'Stenting',\n",
        "    'MechanicalThrombectomy', 'Embolization', 'IntraArterialtPA', 'IntravenoustPA'\n",
        "]"
      ],
      "metadata": {
        "id": "SIEZMaWtqd1p"
      },
      "execution_count": null,
      "outputs": []
    },
    {
      "cell_type": "code",
      "source": [
        "# Interventions quick summary\n",
        "interv_counts = df[intervention_cols].sum()\n",
        "interv_df = interv_counts.reset_index()\n",
        "interv_df.columns = ['Procedure', 'Patient Count']\n",
        "interv_df['% of Patients'] = (interv_df['Patient Count'] / len(df) * 100).round(2)\n",
        "interv_df['Per 100 Patients'] = interv_df['% of Patients'].round(2)\n",
        "interv_df['Cumulative %'] = interv_df['% of Patients'].cumsum().round(2)\n",
        "\n",
        "interv_df.sort_values(by='Patient Count', ascending=False).reset_index(drop=True)\n"
      ],
      "metadata": {
        "id": "BorRewAhqgJm"
      },
      "execution_count": null,
      "outputs": []
    },
    {
      "cell_type": "code",
      "source": [
        "intervention_counts = df[intervention_cols].sum().sort_values(ascending=False)\n",
        "\n",
        "plt.figure(figsize=(10, 6))\n",
        "sns.barplot(x=intervention_counts.values, y=intervention_counts.index)\n",
        "plt.title(\"Frequency of Stroke-Related Interventions\")\n",
        "plt.xlabel(\"Number of Patients\")\n",
        "plt.ylabel(\"Procedure\")\n",
        "plt.tight_layout()\n",
        "plt.show()"
      ],
      "metadata": {
        "id": "YoWmuhiImjgG"
      },
      "execution_count": null,
      "outputs": []
    },
    {
      "cell_type": "code",
      "source": [
        "tpa_df = df[df['tpaDosage'].notna() & (df['tpaDosage'] > 0)]"
      ],
      "metadata": {
        "id": "zPcb4uudnryA"
      },
      "execution_count": null,
      "outputs": []
    },
    {
      "cell_type": "code",
      "source": [
        "# tPA dosage quick summary\n",
        "tpa_summary = tpa_df['tpaDosage'].describe().round(2)\n",
        "tpa_metrics = tpa_summary[['count', 'mean', 'std', 'min', '25%', '50%', '75%', 'max']]\n",
        "\n",
        "# Rename for clarity\n",
        "tpa_metrics.index = [\n",
        "    'Count of Patients', 'Mean (mg)', 'Std Dev (mg)', 'Min (mg)',\n",
        "    '25th Percentile', 'Median (50%)', '75th Percentile', 'Max (mg)'\n",
        "]\n",
        "\n",
        "tpa_metrics.to_frame(name='tPA Dosage Summary')"
      ],
      "metadata": {
        "id": "knqpknQ4qoyW"
      },
      "execution_count": null,
      "outputs": []
    },
    {
      "cell_type": "code",
      "source": [
        "plt.figure(figsize=(7, 5))\n",
        "sns.histplot(data=tpa_df, x='tpaDosage', bins=20, kde=False)\n",
        "plt.title(\"Histogram of tPA Dosage\")\n",
        "plt.xlabel(\"tPA Dosage (mg)\")\n",
        "plt.ylabel(\"Number of Patients\")\n",
        "plt.tight_layout()\n",
        "plt.show()"
      ],
      "metadata": {
        "id": "aAUpO_4xnvQv"
      },
      "execution_count": null,
      "outputs": []
    },
    {
      "cell_type": "code",
      "source": [
        "plt.figure(figsize=(5, 5))\n",
        "sns.boxplot(data=tpa_df, y='tpaDosage')\n",
        "plt.title(\"Box Plot of tPA Dosage\")\n",
        "plt.ylabel(\"tPA Dosage (mg)\")\n",
        "plt.tight_layout()\n",
        "plt.show()"
      ],
      "metadata": {
        "id": "rPQ29XRPnvDJ"
      },
      "execution_count": null,
      "outputs": []
    },
    {
      "cell_type": "code",
      "source": [
        "# Heatmap — Stroke Types × Follow-Up Complications\n",
        "#how often each stroke type has a complication.\n",
        "\n",
        "stroke_main_types = ['CI', 'SAH', 'ICH']\n",
        "\n",
        "comp_matrix = df.groupby(stroke_main_types)[followup_cols].sum()\n",
        "\n",
        "plt.figure(figsize=(10, 6))\n",
        "sns.heatmap(comp_matrix.T, annot=True, fmt=\"d\", cmap=\"Blues\")\n",
        "plt.title(\"Follow-Up Complications by Stroke Type\")\n",
        "plt.xlabel(\"Stroke Type\")\n",
        "plt.ylabel(\"Complication\")\n",
        "plt.tight_layout()\n",
        "plt.show()\n"
      ],
      "metadata": {
        "id": "0J2wHmhxnu0y"
      },
      "execution_count": null,
      "outputs": []
    },
    {
      "cell_type": "code",
      "source": [
        "#Heatmap — Stroke Types × Interventions\n",
        "#Shows which procedures were more common in which stroke type.\n",
        "\n",
        "intervention_matrix = df.groupby(stroke_main_types)[intervention_cols].sum()\n",
        "\n",
        "plt.figure(figsize=(10, 6))\n",
        "sns.heatmap(intervention_matrix.T, annot=True, fmt=\"d\", cmap=\"Purples\")\n",
        "plt.title(\"Intervention Usage by Stroke Type\")\n",
        "plt.xlabel(\"Stroke Type\")\n",
        "plt.ylabel(\"Procedure\")\n",
        "plt.tight_layout()\n",
        "plt.show()\n"
      ],
      "metadata": {
        "id": "Uz13Xyw_oh6O"
      },
      "execution_count": null,
      "outputs": []
    },
    {
      "cell_type": "code",
      "source": [
        "#Stacked Bar — Patients by Stroke Type & Any Complication\n",
        "#Quick view of how many patients had no vs. ≥1 complication per stroke type.\n",
        "# Count if patient had any follow-up complication\n",
        "df['HasAnyComplication'] = df[followup_cols].sum(axis=1) > 0\n",
        "\n",
        "# Get patient counts per stroke type\n",
        "comp_group = df.groupby(['CI', 'SAH', 'ICH', 'HasAnyComplication']).size().unstack(fill_value=0)\n",
        "\n",
        "# Sum into simplified form\n",
        "comp_group.index = comp_group.index.map(lambda x: f\"{'CI' if x[0] else ''}{'SAH' if x[1] else ''}{'ICH' if x[2] else ''}\".strip() or \"Other\")\n",
        "\n",
        "comp_group = comp_group.groupby(comp_group.index).sum()\n",
        "\n",
        "comp_group.plot(kind='bar', stacked=True, figsize=(8, 5), colormap='Set2')\n",
        "plt.title(\"Patients With vs Without Complications by Stroke Type\")\n",
        "plt.ylabel(\"Number of Patients\")\n",
        "plt.xlabel(\"Stroke Type\")\n",
        "plt.legend(title=\"Any Follow-Up Complication\")\n",
        "plt.tight_layout()\n",
        "plt.show()"
      ],
      "metadata": {
        "id": "suEWbd44oiF6"
      },
      "execution_count": null,
      "outputs": []
    },
    {
      "cell_type": "code",
      "source": [
        "# Follow-up complications\n",
        "followup_cols = [\n",
        "    'FollowUpReStroke', 'FollowUpSeizure', 'FollowUpAspirationPneumonia',\n",
        "    'FollowUpUTI', 'FollowUpSepsis', 'FollowUpBedsoresPressureulcers',\n",
        "    'FollowUpDVT', 'FollowUpPTE', 'FollowUpMI', 'FollowUpGIB', 'FollowUpDeath'\n",
        "]\n",
        "\n",
        "# Interventions\n",
        "intervention_cols = [\n",
        "    'HematomaEvacuation', 'Clipping', 'Decompressivecraniectomy', 'Endarterectomy',\n",
        "    'Shunting', 'ExternalVentricularDrain', 'Coiling', 'Stenting',\n",
        "    'MechanicalThrombectomy', 'Embolization', 'IntraArterialtPA', 'IntravenoustPA'\n",
        "]\n",
        "\n",
        "# Stroke type (main categories)\n",
        "stroke_main_types = ['CI', 'SAH', 'ICH']\n"
      ],
      "metadata": {
        "id": "0-vbKsJwoiIQ"
      },
      "execution_count": null,
      "outputs": []
    },
    {
      "cell_type": "code",
      "source": [],
      "metadata": {
        "id": "JHV4JlcZoiM9"
      },
      "execution_count": null,
      "outputs": []
    },
    {
      "cell_type": "code",
      "source": [],
      "metadata": {
        "id": "e08aUTIzoiPS"
      },
      "execution_count": null,
      "outputs": []
    },
    {
      "cell_type": "code",
      "source": [],
      "metadata": {
        "id": "oXMC0TkOoiRd"
      },
      "execution_count": null,
      "outputs": []
    },
    {
      "cell_type": "code",
      "source": [],
      "metadata": {
        "id": "PliKbTZJoiTr"
      },
      "execution_count": null,
      "outputs": []
    },
    {
      "cell_type": "code",
      "source": [],
      "metadata": {
        "id": "bVaJDTPooiXE"
      },
      "execution_count": null,
      "outputs": []
    }
  ]
}